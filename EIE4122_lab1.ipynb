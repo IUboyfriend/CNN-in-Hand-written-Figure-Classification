{
  "nbformat": 4,
  "nbformat_minor": 0,
  "metadata": {
    "colab": {
      "provenance": [],
      "gpuType": "T4"
    },
    "kernelspec": {
      "name": "python3",
      "display_name": "Python 3"
    },
    "language_info": {
      "name": "python"
    },
    "accelerator": "GPU"
  },
  "cells": [
    {
      "cell_type": "code",
      "execution_count": 1,
      "metadata": {
        "id": "SrHmLDZxdZiS",
        "colab": {
          "base_uri": "https://localhost:8080/"
        },
        "outputId": "d47dcb90-8b2e-4a88-d7f5-fea0d606830b"
      },
      "outputs": [
        {
          "output_type": "stream",
          "name": "stdout",
          "text": [
            "Keras version: 2.12.0\n",
            "Tensorflow version 2.12.0\n",
            "Pytorch version: 1.12.1\n"
          ]
        },
        {
          "output_type": "execute_result",
          "data": {
            "text/plain": [
              "[PhysicalDevice(name='/physical_device:CPU:0', device_type='CPU')]"
            ]
          },
          "metadata": {},
          "execution_count": 1
        }
      ],
      "source": [
        "import keras\n",
        "import tensorflow as tf\n",
        "import torch\n",
        "print('Keras version:', keras.__version__)\n",
        "print('Tensorflow version', tf.__version__)\n",
        "print('Pytorch version:', torch.__version__)\n",
        "\n",
        "tf.config.list_physical_devices()\n"
      ]
    },
    {
      "cell_type": "code",
      "source": [
        "from google.colab import drive\n",
        "drive.mount('/content/drive/')\n"
      ],
      "metadata": {
        "colab": {
          "base_uri": "https://localhost:8080/"
        },
        "id": "NFshR7PefKfV",
        "outputId": "951a38eb-541e-4a4d-93a5-ae45e4f96362"
      },
      "execution_count": 31,
      "outputs": [
        {
          "output_type": "stream",
          "name": "stdout",
          "text": [
            "Drive already mounted at /content/drive/; to attempt to forcibly remount, call drive.mount(\"/content/drive/\", force_remount=True).\n"
          ]
        }
      ]
    },
    {
      "cell_type": "code",
      "source": [
        "cd /content/drive/MyDrive/Learning/EIE4122/Lab1"
      ],
      "metadata": {
        "colab": {
          "base_uri": "https://localhost:8080/"
        },
        "id": "2S4IGjn2f52N",
        "outputId": "4db16304-6eb2-41a8-ffc9-94fd16fa8a33"
      },
      "execution_count": 2,
      "outputs": [
        {
          "output_type": "stream",
          "name": "stdout",
          "text": [
            "/content/drive/MyDrive/Learning/EIE4122/Lab1\n"
          ]
        }
      ]
    },
    {
      "cell_type": "code",
      "source": [
        "!pwd\n",
        "!mkdir -p models/\n",
        "!ls"
      ],
      "metadata": {
        "colab": {
          "base_uri": "https://localhost:8080/"
        },
        "id": "k55KzxlRgEPx",
        "outputId": "66d0b9bd-c084-4cdd-f2d6-4cdca362d2c1"
      },
      "execution_count": null,
      "outputs": [
        {
          "output_type": "stream",
          "name": "stdout",
          "text": [
            "/content/drive/MyDrive/Learning/EIE4122/Lab1\n",
            "data\t\t    log_keras\t mnist_cnn_keras.py    models\n",
            "EIE4122-lab1.ipynb  log_pytorch  mnist_cnn_pytorch.py\n"
          ]
        }
      ]
    },
    {
      "cell_type": "markdown",
      "source": [
        "Original model"
      ],
      "metadata": {
        "id": "pkqPf28ZYDdn"
      }
    },
    {
      "cell_type": "code",
      "source": [
        "!python mnist_cnn_keras.py --mode 'train' --batch-size 128 --epochs 5 --model_path 'models/mnist_cnn.keras'"
      ],
      "metadata": {
        "colab": {
          "base_uri": "https://localhost:8080/"
        },
        "id": "NAf3astQkqnR",
        "outputId": "9b513326-86fd-499e-8025-62463472175f"
      },
      "execution_count": 20,
      "outputs": [
        {
          "output_type": "stream",
          "name": "stdout",
          "text": [
            "2023-10-09 05:30:24.682090: W tensorflow/compiler/tf2tensorrt/utils/py_utils.cc:38] TF-TRT Warning: Could not find TensorRT\n",
            "x_train shape: (60000, 28, 28, 1)\n",
            "60000 train samples\n",
            "10000 test samples\n",
            "Model: \"sequential\"\n",
            "_________________________________________________________________\n",
            " Layer (type)                Output Shape              Param #   \n",
            "=================================================================\n",
            " conv2d (Conv2D)             (None, 26, 26, 64)        640       \n",
            "                                                                 \n",
            " batch_normalization (Batch  (None, 26, 26, 64)        256       \n",
            " Normalization)                                                  \n",
            "                                                                 \n",
            " max_pooling2d (MaxPooling2  (None, 13, 13, 64)        0         \n",
            " D)                                                              \n",
            "                                                                 \n",
            " dropout (Dropout)           (None, 13, 13, 64)        0         \n",
            "                                                                 \n",
            " conv2d_1 (Conv2D)           (None, 11, 11, 64)        36928     \n",
            "                                                                 \n",
            " batch_normalization_1 (Bat  (None, 11, 11, 64)        256       \n",
            " chNormalization)                                                \n",
            "                                                                 \n",
            " max_pooling2d_1 (MaxPoolin  (None, 5, 5, 64)          0         \n",
            " g2D)                                                            \n",
            "                                                                 \n",
            " dropout_1 (Dropout)         (None, 5, 5, 64)          0         \n",
            "                                                                 \n",
            " flatten (Flatten)           (None, 1600)              0         \n",
            "                                                                 \n",
            " dense (Dense)               (None, 128)               204928    \n",
            "                                                                 \n",
            " batch_normalization_2 (Bat  (None, 128)               512       \n",
            " chNormalization)                                                \n",
            "                                                                 \n",
            " dropout_2 (Dropout)         (None, 128)               0         \n",
            "                                                                 \n",
            " dense_1 (Dense)             (None, 128)               16512     \n",
            "                                                                 \n",
            " batch_normalization_3 (Bat  (None, 128)               512       \n",
            " chNormalization)                                                \n",
            "                                                                 \n",
            " dropout_3 (Dropout)         (None, 128)               0         \n",
            "                                                                 \n",
            " dense_2 (Dense)             (None, 128)               16512     \n",
            "                                                                 \n",
            " batch_normalization_4 (Bat  (None, 128)               512       \n",
            " chNormalization)                                                \n",
            "                                                                 \n",
            " dropout_4 (Dropout)         (None, 128)               0         \n",
            "                                                                 \n",
            " dense_3 (Dense)             (None, 10)                1290      \n",
            "                                                                 \n",
            "=================================================================\n",
            "Total params: 278858 (1.06 MB)\n",
            "Trainable params: 277834 (1.06 MB)\n",
            "Non-trainable params: 1024 (4.00 KB)\n",
            "_________________________________________________________________\n",
            "Epoch 1/5\n",
            "469/469 [==============================] - 127s 266ms/step - loss: 1.3014 - accuracy: 0.5865\n",
            "Epoch 2/5\n",
            "469/469 [==============================] - 125s 266ms/step - loss: 0.5440 - accuracy: 0.8286\n",
            "Epoch 3/5\n",
            "469/469 [==============================] - 141s 301ms/step - loss: 0.3856 - accuracy: 0.8834\n",
            "Epoch 4/5\n",
            "469/469 [==============================] - 137s 293ms/step - loss: 0.3098 - accuracy: 0.9083\n",
            "Epoch 5/5\n",
            "469/469 [==============================] - 137s 291ms/step - loss: 0.2625 - accuracy: 0.9227\n",
            "Saving CNN to models/mnist_cnn.keras\n"
          ]
        }
      ]
    },
    {
      "cell_type": "code",
      "source": [
        "!python mnist_cnn_keras.py --mode 'test' --model_path 'models/mnist_cnn.keras'"
      ],
      "metadata": {
        "colab": {
          "base_uri": "https://localhost:8080/"
        },
        "id": "WD7IxvBGWH8j",
        "outputId": "5c9eae0a-1a96-44ed-aa1e-34821ee67189"
      },
      "execution_count": 21,
      "outputs": [
        {
          "output_type": "stream",
          "name": "stdout",
          "text": [
            "2023-10-09 05:42:09.010309: W tensorflow/compiler/tf2tensorrt/utils/py_utils.cc:38] TF-TRT Warning: Could not find TensorRT\n",
            "x_train shape: (60000, 28, 28, 1)\n",
            "60000 train samples\n",
            "10000 test samples\n",
            "Model: \"sequential\"\n",
            "_________________________________________________________________\n",
            " Layer (type)                Output Shape              Param #   \n",
            "=================================================================\n",
            " conv2d (Conv2D)             (None, 26, 26, 64)        640       \n",
            "                                                                 \n",
            " batch_normalization (Batch  (None, 26, 26, 64)        256       \n",
            " Normalization)                                                  \n",
            "                                                                 \n",
            " max_pooling2d (MaxPooling2  (None, 13, 13, 64)        0         \n",
            " D)                                                              \n",
            "                                                                 \n",
            " dropout (Dropout)           (None, 13, 13, 64)        0         \n",
            "                                                                 \n",
            " conv2d_1 (Conv2D)           (None, 11, 11, 64)        36928     \n",
            "                                                                 \n",
            " batch_normalization_1 (Bat  (None, 11, 11, 64)        256       \n",
            " chNormalization)                                                \n",
            "                                                                 \n",
            " max_pooling2d_1 (MaxPoolin  (None, 5, 5, 64)          0         \n",
            " g2D)                                                            \n",
            "                                                                 \n",
            " dropout_1 (Dropout)         (None, 5, 5, 64)          0         \n",
            "                                                                 \n",
            " flatten (Flatten)           (None, 1600)              0         \n",
            "                                                                 \n",
            " dense (Dense)               (None, 128)               204928    \n",
            "                                                                 \n",
            " batch_normalization_2 (Bat  (None, 128)               512       \n",
            " chNormalization)                                                \n",
            "                                                                 \n",
            " dropout_2 (Dropout)         (None, 128)               0         \n",
            "                                                                 \n",
            " dense_1 (Dense)             (None, 128)               16512     \n",
            "                                                                 \n",
            " batch_normalization_3 (Bat  (None, 128)               512       \n",
            " chNormalization)                                                \n",
            "                                                                 \n",
            " dropout_3 (Dropout)         (None, 128)               0         \n",
            "                                                                 \n",
            " dense_2 (Dense)             (None, 128)               16512     \n",
            "                                                                 \n",
            " batch_normalization_4 (Bat  (None, 128)               512       \n",
            " chNormalization)                                                \n",
            "                                                                 \n",
            " dropout_4 (Dropout)         (None, 128)               0         \n",
            "                                                                 \n",
            " dense_3 (Dense)             (None, 10)                1290      \n",
            "                                                                 \n",
            "=================================================================\n",
            "Total params: 278858 (1.06 MB)\n",
            "Trainable params: 277834 (1.06 MB)\n",
            "Non-trainable params: 1024 (4.00 KB)\n",
            "_________________________________________________________________\n",
            "Test loss: 0.08607502281665802\n",
            "Test accuracy: 97.39%\n"
          ]
        }
      ]
    },
    {
      "cell_type": "markdown",
      "source": [
        "One convolution and max-pooling layer"
      ],
      "metadata": {
        "id": "m_7v8RnPX5r-"
      }
    },
    {
      "cell_type": "code",
      "source": [
        "!python mnist_cnn_keras.py --mode 'train' --batch-size 128 --epochs 5 --model_path 'models/mnist_cnn_one_less_Convolutional_Layer.keras'"
      ],
      "metadata": {
        "colab": {
          "base_uri": "https://localhost:8080/"
        },
        "id": "t_HAI0TpX48z",
        "outputId": "7c8312e8-7466-4627-d4e2-e835b050922d"
      },
      "execution_count": 4,
      "outputs": [
        {
          "output_type": "stream",
          "name": "stdout",
          "text": [
            "2023-10-09 03:00:14.234320: I tensorflow/core/platform/cpu_feature_guard.cc:182] This TensorFlow binary is optimized to use available CPU instructions in performance-critical operations.\n",
            "To enable the following instructions: AVX2 FMA, in other operations, rebuild TensorFlow with the appropriate compiler flags.\n",
            "2023-10-09 03:00:15.535660: W tensorflow/compiler/tf2tensorrt/utils/py_utils.cc:38] TF-TRT Warning: Could not find TensorRT\n",
            "x_train shape: (60000, 28, 28, 1)\n",
            "60000 train samples\n",
            "10000 test samples\n",
            "Model: \"sequential\"\n",
            "_________________________________________________________________\n",
            " Layer (type)                Output Shape              Param #   \n",
            "=================================================================\n",
            " conv2d (Conv2D)             (None, 26, 26, 64)        640       \n",
            "                                                                 \n",
            " batch_normalization (Batch  (None, 26, 26, 64)        256       \n",
            " Normalization)                                                  \n",
            "                                                                 \n",
            " max_pooling2d (MaxPooling2  (None, 13, 13, 64)        0         \n",
            " D)                                                              \n",
            "                                                                 \n",
            " dropout (Dropout)           (None, 13, 13, 64)        0         \n",
            "                                                                 \n",
            " flatten (Flatten)           (None, 10816)             0         \n",
            "                                                                 \n",
            " dense (Dense)               (None, 128)               1384576   \n",
            "                                                                 \n",
            " batch_normalization_1 (Bat  (None, 128)               512       \n",
            " chNormalization)                                                \n",
            "                                                                 \n",
            " dropout_1 (Dropout)         (None, 128)               0         \n",
            "                                                                 \n",
            " dense_1 (Dense)             (None, 128)               16512     \n",
            "                                                                 \n",
            " batch_normalization_2 (Bat  (None, 128)               512       \n",
            " chNormalization)                                                \n",
            "                                                                 \n",
            " dropout_2 (Dropout)         (None, 128)               0         \n",
            "                                                                 \n",
            " dense_2 (Dense)             (None, 128)               16512     \n",
            "                                                                 \n",
            " batch_normalization_3 (Bat  (None, 128)               512       \n",
            " chNormalization)                                                \n",
            "                                                                 \n",
            " dropout_3 (Dropout)         (None, 128)               0         \n",
            "                                                                 \n",
            " dense_3 (Dense)             (None, 10)                1290      \n",
            "                                                                 \n",
            "=================================================================\n",
            "Total params: 1421322 (5.42 MB)\n",
            "Trainable params: 1420426 (5.42 MB)\n",
            "Non-trainable params: 896 (3.50 KB)\n",
            "_________________________________________________________________\n",
            "Epoch 1/5\n",
            "469/469 [==============================] - 89s 187ms/step - loss: 0.9490 - accuracy: 0.6999\n",
            "Epoch 2/5\n",
            "469/469 [==============================] - 87s 185ms/step - loss: 0.4211 - accuracy: 0.8757\n",
            "Epoch 3/5\n",
            "469/469 [==============================] - 85s 182ms/step - loss: 0.3052 - accuracy: 0.9125\n",
            "Epoch 4/5\n",
            "469/469 [==============================] - 86s 183ms/step - loss: 0.2433 - accuracy: 0.9308\n",
            "Epoch 5/5\n",
            "469/469 [==============================] - 83s 177ms/step - loss: 0.2086 - accuracy: 0.9417\n",
            "Saving CNN to models/mnist_cnn_one_less_Convolutional_Layer.keras\n"
          ]
        }
      ]
    },
    {
      "cell_type": "code",
      "source": [
        "!python mnist_cnn_keras.py --mode 'test' --model_path 'models/mnist_cnn_one_less_Convolutional_Layer.keras'"
      ],
      "metadata": {
        "colab": {
          "base_uri": "https://localhost:8080/"
        },
        "id": "O98SDXL5a747",
        "outputId": "fe457f6d-f18f-4596-da05-d1a9a59cfc7d"
      },
      "execution_count": 6,
      "outputs": [
        {
          "output_type": "stream",
          "name": "stdout",
          "text": [
            "2023-10-09 03:19:30.206432: I tensorflow/core/platform/cpu_feature_guard.cc:182] This TensorFlow binary is optimized to use available CPU instructions in performance-critical operations.\n",
            "To enable the following instructions: AVX2 FMA, in other operations, rebuild TensorFlow with the appropriate compiler flags.\n",
            "2023-10-09 03:19:32.413353: W tensorflow/compiler/tf2tensorrt/utils/py_utils.cc:38] TF-TRT Warning: Could not find TensorRT\n",
            "x_train shape: (60000, 28, 28, 1)\n",
            "60000 train samples\n",
            "10000 test samples\n",
            "Model: \"sequential\"\n",
            "_________________________________________________________________\n",
            " Layer (type)                Output Shape              Param #   \n",
            "=================================================================\n",
            " conv2d (Conv2D)             (None, 26, 26, 64)        640       \n",
            "                                                                 \n",
            " batch_normalization (Batch  (None, 26, 26, 64)        256       \n",
            " Normalization)                                                  \n",
            "                                                                 \n",
            " max_pooling2d (MaxPooling2  (None, 13, 13, 64)        0         \n",
            " D)                                                              \n",
            "                                                                 \n",
            " dropout (Dropout)           (None, 13, 13, 64)        0         \n",
            "                                                                 \n",
            " conv2d_1 (Conv2D)           (None, 11, 11, 64)        36928     \n",
            "                                                                 \n",
            " batch_normalization_1 (Bat  (None, 11, 11, 64)        256       \n",
            " chNormalization)                                                \n",
            "                                                                 \n",
            " max_pooling2d_1 (MaxPoolin  (None, 5, 5, 64)          0         \n",
            " g2D)                                                            \n",
            "                                                                 \n",
            " dropout_1 (Dropout)         (None, 5, 5, 64)          0         \n",
            "                                                                 \n",
            " conv2d_2 (Conv2D)           (None, 3, 3, 64)          36928     \n",
            "                                                                 \n",
            " batch_normalization_2 (Bat  (None, 3, 3, 64)          256       \n",
            " chNormalization)                                                \n",
            "                                                                 \n",
            " max_pooling2d_2 (MaxPoolin  (None, 1, 1, 64)          0         \n",
            " g2D)                                                            \n",
            "                                                                 \n",
            " dropout_2 (Dropout)         (None, 1, 1, 64)          0         \n",
            "                                                                 \n",
            " flatten (Flatten)           (None, 64)                0         \n",
            "                                                                 \n",
            " dense (Dense)               (None, 128)               8320      \n",
            "                                                                 \n",
            " batch_normalization_3 (Bat  (None, 128)               512       \n",
            " chNormalization)                                                \n",
            "                                                                 \n",
            " dropout_3 (Dropout)         (None, 128)               0         \n",
            "                                                                 \n",
            " dense_1 (Dense)             (None, 128)               16512     \n",
            "                                                                 \n",
            " batch_normalization_4 (Bat  (None, 128)               512       \n",
            " chNormalization)                                                \n",
            "                                                                 \n",
            " dropout_4 (Dropout)         (None, 128)               0         \n",
            "                                                                 \n",
            " dense_2 (Dense)             (None, 128)               16512     \n",
            "                                                                 \n",
            " batch_normalization_5 (Bat  (None, 128)               512       \n",
            " chNormalization)                                                \n",
            "                                                                 \n",
            " dropout_5 (Dropout)         (None, 128)               0         \n",
            "                                                                 \n",
            " dense_3 (Dense)             (None, 10)                1290      \n",
            "                                                                 \n",
            "=================================================================\n",
            "Total params: 119434 (466.54 KB)\n",
            "Trainable params: 118282 (462.04 KB)\n",
            "Non-trainable params: 1152 (4.50 KB)\n",
            "_________________________________________________________________\n",
            "Test loss: 0.07501036673784256\n",
            "Test accuracy: 97.62%\n"
          ]
        }
      ]
    },
    {
      "cell_type": "markdown",
      "source": [
        "Three convolution layers and max-pooling layers"
      ],
      "metadata": {
        "id": "9ie5u21Kb75h"
      }
    },
    {
      "cell_type": "code",
      "source": [
        "!python mnist_cnn_keras.py --mode 'train' --batch-size 128 --epochs 5 --model_path 'models/mnist_cnn_one_more_Convolutional_Layer.keras'"
      ],
      "metadata": {
        "colab": {
          "base_uri": "https://localhost:8080/"
        },
        "id": "9YfzW3S9b7Up",
        "outputId": "08905a1f-92bb-42fb-a039-583821ca449c"
      },
      "execution_count": 11,
      "outputs": [
        {
          "output_type": "stream",
          "name": "stdout",
          "text": [
            "2023-10-09 03:53:48.676421: W tensorflow/compiler/tf2tensorrt/utils/py_utils.cc:38] TF-TRT Warning: Could not find TensorRT\n",
            "x_train shape: (60000, 28, 28, 1)\n",
            "60000 train samples\n",
            "10000 test samples\n",
            "Model: \"sequential\"\n",
            "_________________________________________________________________\n",
            " Layer (type)                Output Shape              Param #   \n",
            "=================================================================\n",
            " conv2d (Conv2D)             (None, 26, 26, 64)        640       \n",
            "                                                                 \n",
            " batch_normalization (Batch  (None, 26, 26, 64)        256       \n",
            " Normalization)                                                  \n",
            "                                                                 \n",
            " max_pooling2d (MaxPooling2  (None, 13, 13, 64)        0         \n",
            " D)                                                              \n",
            "                                                                 \n",
            " dropout (Dropout)           (None, 13, 13, 64)        0         \n",
            "                                                                 \n",
            " conv2d_1 (Conv2D)           (None, 11, 11, 64)        36928     \n",
            "                                                                 \n",
            " batch_normalization_1 (Bat  (None, 11, 11, 64)        256       \n",
            " chNormalization)                                                \n",
            "                                                                 \n",
            " max_pooling2d_1 (MaxPoolin  (None, 5, 5, 64)          0         \n",
            " g2D)                                                            \n",
            "                                                                 \n",
            " dropout_1 (Dropout)         (None, 5, 5, 64)          0         \n",
            "                                                                 \n",
            " conv2d_2 (Conv2D)           (None, 3, 3, 64)          36928     \n",
            "                                                                 \n",
            " batch_normalization_2 (Bat  (None, 3, 3, 64)          256       \n",
            " chNormalization)                                                \n",
            "                                                                 \n",
            " max_pooling2d_2 (MaxPoolin  (None, 1, 1, 64)          0         \n",
            " g2D)                                                            \n",
            "                                                                 \n",
            " dropout_2 (Dropout)         (None, 1, 1, 64)          0         \n",
            "                                                                 \n",
            " flatten (Flatten)           (None, 64)                0         \n",
            "                                                                 \n",
            " dense (Dense)               (None, 128)               8320      \n",
            "                                                                 \n",
            " batch_normalization_3 (Bat  (None, 128)               512       \n",
            " chNormalization)                                                \n",
            "                                                                 \n",
            " dropout_3 (Dropout)         (None, 128)               0         \n",
            "                                                                 \n",
            " dense_1 (Dense)             (None, 128)               16512     \n",
            "                                                                 \n",
            " batch_normalization_4 (Bat  (None, 128)               512       \n",
            " chNormalization)                                                \n",
            "                                                                 \n",
            " dropout_4 (Dropout)         (None, 128)               0         \n",
            "                                                                 \n",
            " dense_2 (Dense)             (None, 128)               16512     \n",
            "                                                                 \n",
            " batch_normalization_5 (Bat  (None, 128)               512       \n",
            " chNormalization)                                                \n",
            "                                                                 \n",
            " dropout_5 (Dropout)         (None, 128)               0         \n",
            "                                                                 \n",
            " dense_3 (Dense)             (None, 10)                1290      \n",
            "                                                                 \n",
            "=================================================================\n",
            "Total params: 119434 (466.54 KB)\n",
            "Trainable params: 118282 (462.04 KB)\n",
            "Non-trainable params: 1152 (4.50 KB)\n",
            "_________________________________________________________________\n",
            "Epoch 1/5\n",
            "469/469 [==============================] - 131s 275ms/step - loss: 1.8171 - accuracy: 0.4208\n",
            "Epoch 2/5\n",
            "469/469 [==============================] - 127s 270ms/step - loss: 0.8732 - accuracy: 0.7084\n",
            "Epoch 3/5\n",
            "469/469 [==============================] - 129s 275ms/step - loss: 0.6174 - accuracy: 0.8077\n",
            "Epoch 4/5\n",
            "469/469 [==============================] - 130s 276ms/step - loss: 0.4899 - accuracy: 0.8530\n",
            "Epoch 5/5\n",
            "469/469 [==============================] - 127s 271ms/step - loss: 0.4071 - accuracy: 0.8804\n",
            "Saving CNN to models/mnist_cnn_one_more_Convolutional_Layer.keras\n"
          ]
        }
      ]
    },
    {
      "cell_type": "code",
      "source": [
        "!python mnist_cnn_keras.py --mode 'test' --model_path 'models/mnist_cnn_one_more_Convolutional_Layer.keras'"
      ],
      "metadata": {
        "colab": {
          "base_uri": "https://localhost:8080/"
        },
        "id": "LYY8VWBkb7HL",
        "outputId": "2a40db70-6ca8-42d9-8975-fae8e44571a9"
      },
      "execution_count": 12,
      "outputs": [
        {
          "output_type": "stream",
          "name": "stdout",
          "text": [
            "2023-10-09 04:29:30.296605: W tensorflow/compiler/tf2tensorrt/utils/py_utils.cc:38] TF-TRT Warning: Could not find TensorRT\n",
            "x_train shape: (60000, 28, 28, 1)\n",
            "60000 train samples\n",
            "10000 test samples\n",
            "Model: \"sequential\"\n",
            "_________________________________________________________________\n",
            " Layer (type)                Output Shape              Param #   \n",
            "=================================================================\n",
            " conv2d (Conv2D)             (None, 26, 26, 64)        640       \n",
            "                                                                 \n",
            " batch_normalization (Batch  (None, 26, 26, 64)        256       \n",
            " Normalization)                                                  \n",
            "                                                                 \n",
            " max_pooling2d (MaxPooling2  (None, 13, 13, 64)        0         \n",
            " D)                                                              \n",
            "                                                                 \n",
            " dropout (Dropout)           (None, 13, 13, 64)        0         \n",
            "                                                                 \n",
            " conv2d_1 (Conv2D)           (None, 11, 11, 64)        36928     \n",
            "                                                                 \n",
            " batch_normalization_1 (Bat  (None, 11, 11, 64)        256       \n",
            " chNormalization)                                                \n",
            "                                                                 \n",
            " max_pooling2d_1 (MaxPoolin  (None, 5, 5, 64)          0         \n",
            " g2D)                                                            \n",
            "                                                                 \n",
            " dropout_1 (Dropout)         (None, 5, 5, 64)          0         \n",
            "                                                                 \n",
            " conv2d_2 (Conv2D)           (None, 3, 3, 64)          36928     \n",
            "                                                                 \n",
            " batch_normalization_2 (Bat  (None, 3, 3, 64)          256       \n",
            " chNormalization)                                                \n",
            "                                                                 \n",
            " max_pooling2d_2 (MaxPoolin  (None, 1, 1, 64)          0         \n",
            " g2D)                                                            \n",
            "                                                                 \n",
            " dropout_2 (Dropout)         (None, 1, 1, 64)          0         \n",
            "                                                                 \n",
            " flatten (Flatten)           (None, 64)                0         \n",
            "                                                                 \n",
            " dense (Dense)               (None, 128)               8320      \n",
            "                                                                 \n",
            " batch_normalization_3 (Bat  (None, 128)               512       \n",
            " chNormalization)                                                \n",
            "                                                                 \n",
            " dropout_3 (Dropout)         (None, 128)               0         \n",
            "                                                                 \n",
            " dense_1 (Dense)             (None, 128)               16512     \n",
            "                                                                 \n",
            " batch_normalization_4 (Bat  (None, 128)               512       \n",
            " chNormalization)                                                \n",
            "                                                                 \n",
            " dropout_4 (Dropout)         (None, 128)               0         \n",
            "                                                                 \n",
            " dense_2 (Dense)             (None, 128)               16512     \n",
            "                                                                 \n",
            " batch_normalization_5 (Bat  (None, 128)               512       \n",
            " chNormalization)                                                \n",
            "                                                                 \n",
            " dropout_5 (Dropout)         (None, 128)               0         \n",
            "                                                                 \n",
            " dense_3 (Dense)             (None, 10)                1290      \n",
            "                                                                 \n",
            "=================================================================\n",
            "Total params: 119434 (466.54 KB)\n",
            "Trainable params: 118282 (462.04 KB)\n",
            "Non-trainable params: 1152 (4.50 KB)\n",
            "_________________________________________________________________\n",
            "Test loss: 0.1335838884115219\n",
            "Test accuracy: 95.84%\n"
          ]
        }
      ]
    },
    {
      "cell_type": "markdown",
      "source": [
        "Sigmoid"
      ],
      "metadata": {
        "id": "IuzumAXddKLT"
      }
    },
    {
      "cell_type": "code",
      "source": [
        "!python mnist_cnn_keras.py --mode 'train' --batch-size 128 --epochs 5 --model_path 'models/mnist_cnn_Sigmoid.keras'"
      ],
      "metadata": {
        "colab": {
          "base_uri": "https://localhost:8080/"
        },
        "id": "F5CYs0HJtYnx",
        "outputId": "455e0fdd-a156-4c13-c4e7-c887bacdca7d"
      },
      "execution_count": 17,
      "outputs": [
        {
          "output_type": "stream",
          "name": "stdout",
          "text": [
            "2023-10-09 05:02:40.389946: W tensorflow/compiler/tf2tensorrt/utils/py_utils.cc:38] TF-TRT Warning: Could not find TensorRT\n",
            "x_train shape: (60000, 28, 28, 1)\n",
            "60000 train samples\n",
            "10000 test samples\n",
            "Model: \"sequential\"\n",
            "_________________________________________________________________\n",
            " Layer (type)                Output Shape              Param #   \n",
            "=================================================================\n",
            " conv2d (Conv2D)             (None, 26, 26, 64)        640       \n",
            "                                                                 \n",
            " batch_normalization (Batch  (None, 26, 26, 64)        256       \n",
            " Normalization)                                                  \n",
            "                                                                 \n",
            " max_pooling2d (MaxPooling2  (None, 13, 13, 64)        0         \n",
            " D)                                                              \n",
            "                                                                 \n",
            " dropout (Dropout)           (None, 13, 13, 64)        0         \n",
            "                                                                 \n",
            " conv2d_1 (Conv2D)           (None, 11, 11, 64)        36928     \n",
            "                                                                 \n",
            " batch_normalization_1 (Bat  (None, 11, 11, 64)        256       \n",
            " chNormalization)                                                \n",
            "                                                                 \n",
            " max_pooling2d_1 (MaxPoolin  (None, 5, 5, 64)          0         \n",
            " g2D)                                                            \n",
            "                                                                 \n",
            " dropout_1 (Dropout)         (None, 5, 5, 64)          0         \n",
            "                                                                 \n",
            " flatten (Flatten)           (None, 1600)              0         \n",
            "                                                                 \n",
            " dense (Dense)               (None, 128)               204928    \n",
            "                                                                 \n",
            " batch_normalization_2 (Bat  (None, 128)               512       \n",
            " chNormalization)                                                \n",
            "                                                                 \n",
            " dropout_2 (Dropout)         (None, 128)               0         \n",
            "                                                                 \n",
            " dense_1 (Dense)             (None, 128)               16512     \n",
            "                                                                 \n",
            " batch_normalization_3 (Bat  (None, 128)               512       \n",
            " chNormalization)                                                \n",
            "                                                                 \n",
            " dropout_3 (Dropout)         (None, 128)               0         \n",
            "                                                                 \n",
            " dense_2 (Dense)             (None, 128)               16512     \n",
            "                                                                 \n",
            " batch_normalization_4 (Bat  (None, 128)               512       \n",
            " chNormalization)                                                \n",
            "                                                                 \n",
            " dropout_4 (Dropout)         (None, 128)               0         \n",
            "                                                                 \n",
            " dense_3 (Dense)             (None, 10)                1290      \n",
            "                                                                 \n",
            "=================================================================\n",
            "Total params: 278858 (1.06 MB)\n",
            "Trainable params: 277834 (1.06 MB)\n",
            "Non-trainable params: 1024 (4.00 KB)\n",
            "_________________________________________________________________\n",
            "Epoch 1/5\n",
            "469/469 [==============================] - 140s 295ms/step - loss: 1.1678 - accuracy: 0.6267\n",
            "Epoch 2/5\n",
            "469/469 [==============================] - 147s 314ms/step - loss: 0.5426 - accuracy: 0.8304\n",
            "Epoch 3/5\n",
            "469/469 [==============================] - 151s 321ms/step - loss: 0.3996 - accuracy: 0.8757\n",
            "Epoch 4/5\n",
            "469/469 [==============================] - 151s 321ms/step - loss: 0.3245 - accuracy: 0.9021\n",
            "Epoch 5/5\n",
            "469/469 [==============================] - 149s 318ms/step - loss: 0.2831 - accuracy: 0.9147\n",
            "Saving CNN to models/mnist_cnn_Sigmoid.keras\n"
          ]
        }
      ]
    },
    {
      "cell_type": "code",
      "source": [
        "!python mnist_cnn_keras.py --mode 'test' --model_path 'models/mnist_cnn_Sigmoid.keras'"
      ],
      "metadata": {
        "colab": {
          "base_uri": "https://localhost:8080/"
        },
        "id": "uv_AR4DQxgO0",
        "outputId": "3ea4f4b0-c055-4a66-b742-5c2cf1616256"
      },
      "execution_count": 18,
      "outputs": [
        {
          "output_type": "stream",
          "name": "stdout",
          "text": [
            "2023-10-09 05:15:22.459854: W tensorflow/compiler/tf2tensorrt/utils/py_utils.cc:38] TF-TRT Warning: Could not find TensorRT\n",
            "x_train shape: (60000, 28, 28, 1)\n",
            "60000 train samples\n",
            "10000 test samples\n",
            "Model: \"sequential\"\n",
            "_________________________________________________________________\n",
            " Layer (type)                Output Shape              Param #   \n",
            "=================================================================\n",
            " conv2d (Conv2D)             (None, 26, 26, 64)        640       \n",
            "                                                                 \n",
            " batch_normalization (Batch  (None, 26, 26, 64)        256       \n",
            " Normalization)                                                  \n",
            "                                                                 \n",
            " max_pooling2d (MaxPooling2  (None, 13, 13, 64)        0         \n",
            " D)                                                              \n",
            "                                                                 \n",
            " dropout (Dropout)           (None, 13, 13, 64)        0         \n",
            "                                                                 \n",
            " conv2d_1 (Conv2D)           (None, 11, 11, 64)        36928     \n",
            "                                                                 \n",
            " batch_normalization_1 (Bat  (None, 11, 11, 64)        256       \n",
            " chNormalization)                                                \n",
            "                                                                 \n",
            " max_pooling2d_1 (MaxPoolin  (None, 5, 5, 64)          0         \n",
            " g2D)                                                            \n",
            "                                                                 \n",
            " dropout_1 (Dropout)         (None, 5, 5, 64)          0         \n",
            "                                                                 \n",
            " flatten (Flatten)           (None, 1600)              0         \n",
            "                                                                 \n",
            " dense (Dense)               (None, 128)               204928    \n",
            "                                                                 \n",
            " batch_normalization_2 (Bat  (None, 128)               512       \n",
            " chNormalization)                                                \n",
            "                                                                 \n",
            " dropout_2 (Dropout)         (None, 128)               0         \n",
            "                                                                 \n",
            " dense_1 (Dense)             (None, 128)               16512     \n",
            "                                                                 \n",
            " batch_normalization_3 (Bat  (None, 128)               512       \n",
            " chNormalization)                                                \n",
            "                                                                 \n",
            " dropout_3 (Dropout)         (None, 128)               0         \n",
            "                                                                 \n",
            " dense_2 (Dense)             (None, 128)               16512     \n",
            "                                                                 \n",
            " batch_normalization_4 (Bat  (None, 128)               512       \n",
            " chNormalization)                                                \n",
            "                                                                 \n",
            " dropout_4 (Dropout)         (None, 128)               0         \n",
            "                                                                 \n",
            " dense_3 (Dense)             (None, 10)                1290      \n",
            "                                                                 \n",
            "=================================================================\n",
            "Total params: 278858 (1.06 MB)\n",
            "Trainable params: 277834 (1.06 MB)\n",
            "Non-trainable params: 1024 (4.00 KB)\n",
            "_________________________________________________________________\n",
            "Test loss: 0.1089678555727005\n",
            "Test accuracy: 96.64%\n"
          ]
        }
      ]
    },
    {
      "cell_type": "markdown",
      "source": [
        "Tanh"
      ],
      "metadata": {
        "id": "WiJeyYyadKXB"
      }
    },
    {
      "cell_type": "code",
      "source": [
        "!python mnist_cnn_keras.py --mode 'train' --batch-size 128 --epochs 5 --model_path 'models/mnist_cnn_Tanh.keras'"
      ],
      "metadata": {
        "colab": {
          "base_uri": "https://localhost:8080/"
        },
        "id": "Wi5yxsOgt1nQ",
        "outputId": "3b4a6764-d034-4152-cb8d-dab27c40b6d8"
      },
      "execution_count": 22,
      "outputs": [
        {
          "output_type": "stream",
          "name": "stdout",
          "text": [
            "2023-10-09 05:45:35.675497: W tensorflow/compiler/tf2tensorrt/utils/py_utils.cc:38] TF-TRT Warning: Could not find TensorRT\n",
            "x_train shape: (60000, 28, 28, 1)\n",
            "60000 train samples\n",
            "10000 test samples\n",
            "Model: \"sequential\"\n",
            "_________________________________________________________________\n",
            " Layer (type)                Output Shape              Param #   \n",
            "=================================================================\n",
            " conv2d (Conv2D)             (None, 26, 26, 64)        640       \n",
            "                                                                 \n",
            " batch_normalization (Batch  (None, 26, 26, 64)        256       \n",
            " Normalization)                                                  \n",
            "                                                                 \n",
            " max_pooling2d (MaxPooling2  (None, 13, 13, 64)        0         \n",
            " D)                                                              \n",
            "                                                                 \n",
            " dropout (Dropout)           (None, 13, 13, 64)        0         \n",
            "                                                                 \n",
            " conv2d_1 (Conv2D)           (None, 11, 11, 64)        36928     \n",
            "                                                                 \n",
            " batch_normalization_1 (Bat  (None, 11, 11, 64)        256       \n",
            " chNormalization)                                                \n",
            "                                                                 \n",
            " max_pooling2d_1 (MaxPoolin  (None, 5, 5, 64)          0         \n",
            " g2D)                                                            \n",
            "                                                                 \n",
            " dropout_1 (Dropout)         (None, 5, 5, 64)          0         \n",
            "                                                                 \n",
            " flatten (Flatten)           (None, 1600)              0         \n",
            "                                                                 \n",
            " dense (Dense)               (None, 128)               204928    \n",
            "                                                                 \n",
            " batch_normalization_2 (Bat  (None, 128)               512       \n",
            " chNormalization)                                                \n",
            "                                                                 \n",
            " dropout_2 (Dropout)         (None, 128)               0         \n",
            "                                                                 \n",
            " dense_1 (Dense)             (None, 128)               16512     \n",
            "                                                                 \n",
            " batch_normalization_3 (Bat  (None, 128)               512       \n",
            " chNormalization)                                                \n",
            "                                                                 \n",
            " dropout_3 (Dropout)         (None, 128)               0         \n",
            "                                                                 \n",
            " dense_2 (Dense)             (None, 128)               16512     \n",
            "                                                                 \n",
            " batch_normalization_4 (Bat  (None, 128)               512       \n",
            " chNormalization)                                                \n",
            "                                                                 \n",
            " dropout_4 (Dropout)         (None, 128)               0         \n",
            "                                                                 \n",
            " dense_3 (Dense)             (None, 10)                1290      \n",
            "                                                                 \n",
            "=================================================================\n",
            "Total params: 278858 (1.06 MB)\n",
            "Trainable params: 277834 (1.06 MB)\n",
            "Non-trainable params: 1024 (4.00 KB)\n",
            "_________________________________________________________________\n",
            "Epoch 1/5\n",
            "469/469 [==============================] - 145s 306ms/step - loss: 1.3723 - accuracy: 0.5695\n",
            "Epoch 2/5\n",
            "469/469 [==============================] - 144s 306ms/step - loss: 0.6253 - accuracy: 0.8023\n",
            "Epoch 3/5\n",
            "469/469 [==============================] - 142s 302ms/step - loss: 0.4412 - accuracy: 0.8646\n",
            "Epoch 4/5\n",
            "469/469 [==============================] - 142s 304ms/step - loss: 0.3483 - accuracy: 0.8981\n",
            "Epoch 5/5\n",
            "469/469 [==============================] - 142s 303ms/step - loss: 0.2973 - accuracy: 0.9141\n",
            "Saving CNN to models/mnist_cnn_Tanh.keras\n"
          ]
        }
      ]
    },
    {
      "cell_type": "code",
      "source": [
        "!python mnist_cnn_keras.py --mode 'test' --model_path 'models/mnist_cnn_Tanh.keras'"
      ],
      "metadata": {
        "colab": {
          "base_uri": "https://localhost:8080/"
        },
        "id": "ll6do8oPx1bC",
        "outputId": "2b258af7-e63a-4053-de6e-537b2ddf7ede"
      },
      "execution_count": 23,
      "outputs": [
        {
          "output_type": "stream",
          "name": "stdout",
          "text": [
            "2023-10-09 05:57:51.954589: W tensorflow/compiler/tf2tensorrt/utils/py_utils.cc:38] TF-TRT Warning: Could not find TensorRT\n",
            "x_train shape: (60000, 28, 28, 1)\n",
            "60000 train samples\n",
            "10000 test samples\n",
            "Model: \"sequential\"\n",
            "_________________________________________________________________\n",
            " Layer (type)                Output Shape              Param #   \n",
            "=================================================================\n",
            " conv2d (Conv2D)             (None, 26, 26, 64)        640       \n",
            "                                                                 \n",
            " batch_normalization (Batch  (None, 26, 26, 64)        256       \n",
            " Normalization)                                                  \n",
            "                                                                 \n",
            " max_pooling2d (MaxPooling2  (None, 13, 13, 64)        0         \n",
            " D)                                                              \n",
            "                                                                 \n",
            " dropout (Dropout)           (None, 13, 13, 64)        0         \n",
            "                                                                 \n",
            " conv2d_1 (Conv2D)           (None, 11, 11, 64)        36928     \n",
            "                                                                 \n",
            " batch_normalization_1 (Bat  (None, 11, 11, 64)        256       \n",
            " chNormalization)                                                \n",
            "                                                                 \n",
            " max_pooling2d_1 (MaxPoolin  (None, 5, 5, 64)          0         \n",
            " g2D)                                                            \n",
            "                                                                 \n",
            " dropout_1 (Dropout)         (None, 5, 5, 64)          0         \n",
            "                                                                 \n",
            " flatten (Flatten)           (None, 1600)              0         \n",
            "                                                                 \n",
            " dense (Dense)               (None, 128)               204928    \n",
            "                                                                 \n",
            " batch_normalization_2 (Bat  (None, 128)               512       \n",
            " chNormalization)                                                \n",
            "                                                                 \n",
            " dropout_2 (Dropout)         (None, 128)               0         \n",
            "                                                                 \n",
            " dense_1 (Dense)             (None, 128)               16512     \n",
            "                                                                 \n",
            " batch_normalization_3 (Bat  (None, 128)               512       \n",
            " chNormalization)                                                \n",
            "                                                                 \n",
            " dropout_3 (Dropout)         (None, 128)               0         \n",
            "                                                                 \n",
            " dense_2 (Dense)             (None, 128)               16512     \n",
            "                                                                 \n",
            " batch_normalization_4 (Bat  (None, 128)               512       \n",
            " chNormalization)                                                \n",
            "                                                                 \n",
            " dropout_4 (Dropout)         (None, 128)               0         \n",
            "                                                                 \n",
            " dense_3 (Dense)             (None, 10)                1290      \n",
            "                                                                 \n",
            "=================================================================\n",
            "Total params: 278858 (1.06 MB)\n",
            "Trainable params: 277834 (1.06 MB)\n",
            "Non-trainable params: 1024 (4.00 KB)\n",
            "_________________________________________________________________\n",
            "Test loss: 0.12299702316522598\n",
            "Test accuracy: 96.83%\n"
          ]
        }
      ]
    },
    {
      "cell_type": "markdown",
      "source": [
        "Kernel size: 2*2"
      ],
      "metadata": {
        "id": "4Wv-vjm4BeOh"
      }
    },
    {
      "cell_type": "code",
      "source": [
        "!python mnist_cnn_keras.py --mode 'train' --batch-size 128 --epochs 5 --model_path 'models/mnist_cnn_22kernel.keras'"
      ],
      "metadata": {
        "colab": {
          "base_uri": "https://localhost:8080/"
        },
        "id": "hQ7v7TnPBlVR",
        "outputId": "ecc8187b-c456-4bc8-e721-58f49b2c93f8"
      },
      "execution_count": 26,
      "outputs": [
        {
          "output_type": "stream",
          "name": "stdout",
          "text": [
            "2023-10-09 06:04:26.919602: W tensorflow/compiler/tf2tensorrt/utils/py_utils.cc:38] TF-TRT Warning: Could not find TensorRT\n",
            "x_train shape: (60000, 28, 28, 1)\n",
            "60000 train samples\n",
            "10000 test samples\n",
            "Model: \"sequential\"\n",
            "_________________________________________________________________\n",
            " Layer (type)                Output Shape              Param #   \n",
            "=================================================================\n",
            " conv2d (Conv2D)             (None, 27, 27, 64)        320       \n",
            "                                                                 \n",
            " batch_normalization (Batch  (None, 27, 27, 64)        256       \n",
            " Normalization)                                                  \n",
            "                                                                 \n",
            " max_pooling2d (MaxPooling2  (None, 13, 13, 64)        0         \n",
            " D)                                                              \n",
            "                                                                 \n",
            " dropout (Dropout)           (None, 13, 13, 64)        0         \n",
            "                                                                 \n",
            " conv2d_1 (Conv2D)           (None, 12, 12, 64)        16448     \n",
            "                                                                 \n",
            " batch_normalization_1 (Bat  (None, 12, 12, 64)        256       \n",
            " chNormalization)                                                \n",
            "                                                                 \n",
            " max_pooling2d_1 (MaxPoolin  (None, 6, 6, 64)          0         \n",
            " g2D)                                                            \n",
            "                                                                 \n",
            " dropout_1 (Dropout)         (None, 6, 6, 64)          0         \n",
            "                                                                 \n",
            " flatten (Flatten)           (None, 2304)              0         \n",
            "                                                                 \n",
            " dense (Dense)               (None, 128)               295040    \n",
            "                                                                 \n",
            " batch_normalization_2 (Bat  (None, 128)               512       \n",
            " chNormalization)                                                \n",
            "                                                                 \n",
            " dropout_2 (Dropout)         (None, 128)               0         \n",
            "                                                                 \n",
            " dense_1 (Dense)             (None, 128)               16512     \n",
            "                                                                 \n",
            " batch_normalization_3 (Bat  (None, 128)               512       \n",
            " chNormalization)                                                \n",
            "                                                                 \n",
            " dropout_3 (Dropout)         (None, 128)               0         \n",
            "                                                                 \n",
            " dense_2 (Dense)             (None, 128)               16512     \n",
            "                                                                 \n",
            " batch_normalization_4 (Bat  (None, 128)               512       \n",
            " chNormalization)                                                \n",
            "                                                                 \n",
            " dropout_4 (Dropout)         (None, 128)               0         \n",
            "                                                                 \n",
            " dense_3 (Dense)             (None, 10)                1290      \n",
            "                                                                 \n",
            "=================================================================\n",
            "Total params: 348170 (1.33 MB)\n",
            "Trainable params: 347146 (1.32 MB)\n",
            "Non-trainable params: 1024 (4.00 KB)\n",
            "_________________________________________________________________\n",
            "Epoch 1/5\n",
            "469/469 [==============================] - 130s 273ms/step - loss: 1.3698 - accuracy: 0.5672\n",
            "Epoch 2/5\n",
            "469/469 [==============================] - 120s 256ms/step - loss: 0.5780 - accuracy: 0.8191\n",
            "Epoch 3/5\n",
            "469/469 [==============================] - 120s 257ms/step - loss: 0.4130 - accuracy: 0.8770\n",
            "Epoch 4/5\n",
            "469/469 [==============================] - 121s 257ms/step - loss: 0.3343 - accuracy: 0.9020\n",
            "Epoch 5/5\n",
            "469/469 [==============================] - 121s 259ms/step - loss: 0.2892 - accuracy: 0.9156\n",
            "Saving CNN to models/mnist_cnn_22kernel.keras\n"
          ]
        }
      ]
    },
    {
      "cell_type": "code",
      "source": [
        "!python mnist_cnn_keras.py --mode 'test' --model_path 'models/mnist_cnn_22kernel.keras'"
      ],
      "metadata": {
        "colab": {
          "base_uri": "https://localhost:8080/"
        },
        "id": "gZppmHegCJf8",
        "outputId": "10eee081-cde8-4a78-934e-56ff76051b38"
      },
      "execution_count": 27,
      "outputs": [
        {
          "output_type": "stream",
          "name": "stdout",
          "text": [
            "2023-10-09 06:16:27.147755: W tensorflow/compiler/tf2tensorrt/utils/py_utils.cc:38] TF-TRT Warning: Could not find TensorRT\n",
            "x_train shape: (60000, 28, 28, 1)\n",
            "60000 train samples\n",
            "10000 test samples\n",
            "Model: \"sequential\"\n",
            "_________________________________________________________________\n",
            " Layer (type)                Output Shape              Param #   \n",
            "=================================================================\n",
            " conv2d (Conv2D)             (None, 27, 27, 64)        320       \n",
            "                                                                 \n",
            " batch_normalization (Batch  (None, 27, 27, 64)        256       \n",
            " Normalization)                                                  \n",
            "                                                                 \n",
            " max_pooling2d (MaxPooling2  (None, 13, 13, 64)        0         \n",
            " D)                                                              \n",
            "                                                                 \n",
            " dropout (Dropout)           (None, 13, 13, 64)        0         \n",
            "                                                                 \n",
            " conv2d_1 (Conv2D)           (None, 12, 12, 64)        16448     \n",
            "                                                                 \n",
            " batch_normalization_1 (Bat  (None, 12, 12, 64)        256       \n",
            " chNormalization)                                                \n",
            "                                                                 \n",
            " max_pooling2d_1 (MaxPoolin  (None, 6, 6, 64)          0         \n",
            " g2D)                                                            \n",
            "                                                                 \n",
            " dropout_1 (Dropout)         (None, 6, 6, 64)          0         \n",
            "                                                                 \n",
            " flatten (Flatten)           (None, 2304)              0         \n",
            "                                                                 \n",
            " dense (Dense)               (None, 128)               295040    \n",
            "                                                                 \n",
            " batch_normalization_2 (Bat  (None, 128)               512       \n",
            " chNormalization)                                                \n",
            "                                                                 \n",
            " dropout_2 (Dropout)         (None, 128)               0         \n",
            "                                                                 \n",
            " dense_1 (Dense)             (None, 128)               16512     \n",
            "                                                                 \n",
            " batch_normalization_3 (Bat  (None, 128)               512       \n",
            " chNormalization)                                                \n",
            "                                                                 \n",
            " dropout_3 (Dropout)         (None, 128)               0         \n",
            "                                                                 \n",
            " dense_2 (Dense)             (None, 128)               16512     \n",
            "                                                                 \n",
            " batch_normalization_4 (Bat  (None, 128)               512       \n",
            " chNormalization)                                                \n",
            "                                                                 \n",
            " dropout_4 (Dropout)         (None, 128)               0         \n",
            "                                                                 \n",
            " dense_3 (Dense)             (None, 10)                1290      \n",
            "                                                                 \n",
            "=================================================================\n",
            "Total params: 348170 (1.33 MB)\n",
            "Trainable params: 347146 (1.32 MB)\n",
            "Non-trainable params: 1024 (4.00 KB)\n",
            "_________________________________________________________________\n",
            "Test loss: 0.09933483600616455\n",
            "Test accuracy: 96.90%\n"
          ]
        }
      ]
    },
    {
      "cell_type": "markdown",
      "source": [
        "Kernel size: 4*4"
      ],
      "metadata": {
        "id": "PUSjJKRVBieu"
      }
    },
    {
      "cell_type": "code",
      "source": [
        "!python mnist_cnn_keras.py --mode 'train' --batch-size 128 --epochs 5 --model_path 'models/mnist_cnn_44kernel.keras'"
      ],
      "metadata": {
        "colab": {
          "base_uri": "https://localhost:8080/"
        },
        "id": "ALx9VFjbCHL8",
        "outputId": "1cb1b689-f7e8-41a6-cb27-c6bcb501d4b5"
      },
      "execution_count": 28,
      "outputs": [
        {
          "output_type": "stream",
          "name": "stdout",
          "text": [
            "2023-10-09 06:17:58.003068: W tensorflow/compiler/tf2tensorrt/utils/py_utils.cc:38] TF-TRT Warning: Could not find TensorRT\n",
            "x_train shape: (60000, 28, 28, 1)\n",
            "60000 train samples\n",
            "10000 test samples\n",
            "Model: \"sequential\"\n",
            "_________________________________________________________________\n",
            " Layer (type)                Output Shape              Param #   \n",
            "=================================================================\n",
            " conv2d (Conv2D)             (None, 25, 25, 64)        1088      \n",
            "                                                                 \n",
            " batch_normalization (Batch  (None, 25, 25, 64)        256       \n",
            " Normalization)                                                  \n",
            "                                                                 \n",
            " max_pooling2d (MaxPooling2  (None, 12, 12, 64)        0         \n",
            " D)                                                              \n",
            "                                                                 \n",
            " dropout (Dropout)           (None, 12, 12, 64)        0         \n",
            "                                                                 \n",
            " conv2d_1 (Conv2D)           (None, 9, 9, 64)          65600     \n",
            "                                                                 \n",
            " batch_normalization_1 (Bat  (None, 9, 9, 64)          256       \n",
            " chNormalization)                                                \n",
            "                                                                 \n",
            " max_pooling2d_1 (MaxPoolin  (None, 4, 4, 64)          0         \n",
            " g2D)                                                            \n",
            "                                                                 \n",
            " dropout_1 (Dropout)         (None, 4, 4, 64)          0         \n",
            "                                                                 \n",
            " flatten (Flatten)           (None, 1024)              0         \n",
            "                                                                 \n",
            " dense (Dense)               (None, 128)               131200    \n",
            "                                                                 \n",
            " batch_normalization_2 (Bat  (None, 128)               512       \n",
            " chNormalization)                                                \n",
            "                                                                 \n",
            " dropout_2 (Dropout)         (None, 128)               0         \n",
            "                                                                 \n",
            " dense_1 (Dense)             (None, 128)               16512     \n",
            "                                                                 \n",
            " batch_normalization_3 (Bat  (None, 128)               512       \n",
            " chNormalization)                                                \n",
            "                                                                 \n",
            " dropout_3 (Dropout)         (None, 128)               0         \n",
            "                                                                 \n",
            " dense_2 (Dense)             (None, 128)               16512     \n",
            "                                                                 \n",
            " batch_normalization_4 (Bat  (None, 128)               512       \n",
            " chNormalization)                                                \n",
            "                                                                 \n",
            " dropout_4 (Dropout)         (None, 128)               0         \n",
            "                                                                 \n",
            " dense_3 (Dense)             (None, 10)                1290      \n",
            "                                                                 \n",
            "=================================================================\n",
            "Total params: 234250 (915.04 KB)\n",
            "Trainable params: 233226 (911.04 KB)\n",
            "Non-trainable params: 1024 (4.00 KB)\n",
            "_________________________________________________________________\n",
            "Epoch 1/5\n",
            "469/469 [==============================] - 154s 326ms/step - loss: 1.3817 - accuracy: 0.5624\n",
            "Epoch 2/5\n",
            "469/469 [==============================] - 139s 297ms/step - loss: 0.5389 - accuracy: 0.8328\n",
            "Epoch 3/5\n",
            "469/469 [==============================] - 137s 292ms/step - loss: 0.3724 - accuracy: 0.8885\n",
            "Epoch 4/5\n",
            "469/469 [==============================] - 136s 290ms/step - loss: 0.2952 - accuracy: 0.9132\n",
            "Epoch 5/5\n",
            "469/469 [==============================] - 137s 292ms/step - loss: 0.2511 - accuracy: 0.9276\n",
            "Saving CNN to models/mnist_cnn_44kernel.keras\n"
          ]
        }
      ]
    },
    {
      "cell_type": "code",
      "source": [
        "!python mnist_cnn_keras.py --mode 'test' --model_path 'models/mnist_cnn_44kernel.keras'"
      ],
      "metadata": {
        "colab": {
          "base_uri": "https://localhost:8080/"
        },
        "id": "20ScJ-I3FnPs",
        "outputId": "92bba99d-4a96-421e-ab94-e3ea32ad5644"
      },
      "execution_count": 2,
      "outputs": [
        {
          "output_type": "stream",
          "name": "stdout",
          "text": [
            "2023-10-09 06:53:53.789564: I tensorflow/core/platform/cpu_feature_guard.cc:182] This TensorFlow binary is optimized to use available CPU instructions in performance-critical operations.\n",
            "To enable the following instructions: AVX2 FMA, in other operations, rebuild TensorFlow with the appropriate compiler flags.\n",
            "2023-10-09 06:53:55.531846: W tensorflow/compiler/tf2tensorrt/utils/py_utils.cc:38] TF-TRT Warning: Could not find TensorRT\n",
            "x_train shape: (60000, 28, 28, 1)\n",
            "60000 train samples\n",
            "10000 test samples\n",
            "Model: \"sequential\"\n",
            "_________________________________________________________________\n",
            " Layer (type)                Output Shape              Param #   \n",
            "=================================================================\n",
            " conv2d (Conv2D)             (None, 25, 25, 64)        1088      \n",
            "                                                                 \n",
            " batch_normalization (Batch  (None, 25, 25, 64)        256       \n",
            " Normalization)                                                  \n",
            "                                                                 \n",
            " max_pooling2d (MaxPooling2  (None, 12, 12, 64)        0         \n",
            " D)                                                              \n",
            "                                                                 \n",
            " dropout (Dropout)           (None, 12, 12, 64)        0         \n",
            "                                                                 \n",
            " conv2d_1 (Conv2D)           (None, 9, 9, 64)          65600     \n",
            "                                                                 \n",
            " batch_normalization_1 (Bat  (None, 9, 9, 64)          256       \n",
            " chNormalization)                                                \n",
            "                                                                 \n",
            " max_pooling2d_1 (MaxPoolin  (None, 4, 4, 64)          0         \n",
            " g2D)                                                            \n",
            "                                                                 \n",
            " dropout_1 (Dropout)         (None, 4, 4, 64)          0         \n",
            "                                                                 \n",
            " flatten (Flatten)           (None, 1024)              0         \n",
            "                                                                 \n",
            " dense (Dense)               (None, 128)               131200    \n",
            "                                                                 \n",
            " batch_normalization_2 (Bat  (None, 128)               512       \n",
            " chNormalization)                                                \n",
            "                                                                 \n",
            " dropout_2 (Dropout)         (None, 128)               0         \n",
            "                                                                 \n",
            " dense_1 (Dense)             (None, 128)               16512     \n",
            "                                                                 \n",
            " batch_normalization_3 (Bat  (None, 128)               512       \n",
            " chNormalization)                                                \n",
            "                                                                 \n",
            " dropout_3 (Dropout)         (None, 128)               0         \n",
            "                                                                 \n",
            " dense_2 (Dense)             (None, 128)               16512     \n",
            "                                                                 \n",
            " batch_normalization_4 (Bat  (None, 128)               512       \n",
            " chNormalization)                                                \n",
            "                                                                 \n",
            " dropout_4 (Dropout)         (None, 128)               0         \n",
            "                                                                 \n",
            " dense_3 (Dense)             (None, 10)                1290      \n",
            "                                                                 \n",
            "=================================================================\n",
            "Total params: 234250 (915.04 KB)\n",
            "Trainable params: 233226 (911.04 KB)\n",
            "Non-trainable params: 1024 (4.00 KB)\n",
            "_________________________________________________________________\n",
            "Test loss: 0.07901279628276825\n",
            "Test accuracy: 97.55%\n"
          ]
        }
      ]
    },
    {
      "cell_type": "markdown",
      "source": [
        "**Pytorch CNN**\n"
      ],
      "metadata": {
        "id": "vuYEPIO_Frj6"
      }
    },
    {
      "cell_type": "code",
      "source": [
        "!pip install tensorboardX"
      ],
      "metadata": {
        "colab": {
          "base_uri": "https://localhost:8080/"
        },
        "id": "1jbGxDT_yFXH",
        "outputId": "a2f7a36d-bb8b-4774-d9ce-3364f01377be"
      },
      "execution_count": 4,
      "outputs": [
        {
          "output_type": "stream",
          "name": "stdout",
          "text": [
            "Collecting tensorboardX\n",
            "  Downloading tensorboardX-2.6.2.2-py2.py3-none-any.whl (101 kB)\n",
            "\u001b[?25l     \u001b[90m━━━━━━━━━━━━━━━━━━━━━━━━━━━━━━━━━━━━━━━━\u001b[0m \u001b[32m0.0/101.7 kB\u001b[0m \u001b[31m?\u001b[0m eta \u001b[36m-:--:--\u001b[0m\r\u001b[2K     \u001b[91m━━━━━━━━━━━━━━━━━━━━━━━━━━━━━━━━\u001b[0m\u001b[90m╺\u001b[0m\u001b[90m━━━━━━━\u001b[0m \u001b[32m81.9/101.7 kB\u001b[0m \u001b[31m2.9 MB/s\u001b[0m eta \u001b[36m0:00:01\u001b[0m\r\u001b[2K     \u001b[90m━━━━━━━━━━━━━━━━━━━━━━━━━━━━━━━━━━━━━━━\u001b[0m \u001b[32m101.7/101.7 kB\u001b[0m \u001b[31m2.7 MB/s\u001b[0m eta \u001b[36m0:00:00\u001b[0m\n",
            "\u001b[?25hRequirement already satisfied: numpy in /usr/local/lib/python3.10/dist-packages (from tensorboardX) (1.23.5)\n",
            "Requirement already satisfied: packaging in /usr/local/lib/python3.10/dist-packages (from tensorboardX) (23.2)\n",
            "Requirement already satisfied: protobuf>=3.20 in /usr/local/lib/python3.10/dist-packages (from tensorboardX) (3.20.3)\n",
            "Installing collected packages: tensorboardX\n",
            "Successfully installed tensorboardX-2.6.2.2\n"
          ]
        }
      ]
    },
    {
      "cell_type": "code",
      "source": [
        "!python mnist_cnn_pytorch.py --mode 'train' --batch-size 128 --epochs 5 --model_path 'models/mnist_cnn.pth'"
      ],
      "metadata": {
        "colab": {
          "base_uri": "https://localhost:8080/"
        },
        "id": "Ouh8EJWYyQk-",
        "outputId": "d7755c17-cc01-47ff-9ce1-ac4977f4025c"
      },
      "execution_count": 7,
      "outputs": [
        {
          "output_type": "stream",
          "name": "stdout",
          "text": [
            "Train Epoch: 1 [0/60000 (0%)]\tLoss: 2.358812\n",
            "Train Epoch: 1 [12800/60000 (21%)]\tLoss: 1.861650\n",
            "Train Epoch: 1 [25600/60000 (43%)]\tLoss: 1.040075\n",
            "Train Epoch: 1 [38400/60000 (64%)]\tLoss: 0.881236\n",
            "Train Epoch: 1 [51200/60000 (85%)]\tLoss: 0.697163\n",
            "Train Epoch: 2 [0/60000 (0%)]\tLoss: 0.578098\n",
            "Train Epoch: 2 [12800/60000 (21%)]\tLoss: 0.790211\n",
            "Train Epoch: 2 [25600/60000 (43%)]\tLoss: 0.520883\n",
            "Train Epoch: 2 [38400/60000 (64%)]\tLoss: 0.450424\n",
            "Train Epoch: 2 [51200/60000 (85%)]\tLoss: 0.392762\n",
            "Train Epoch: 3 [0/60000 (0%)]\tLoss: 0.236388\n",
            "Train Epoch: 3 [12800/60000 (21%)]\tLoss: 0.281194\n",
            "Train Epoch: 3 [25600/60000 (43%)]\tLoss: 0.462064\n",
            "Train Epoch: 3 [38400/60000 (64%)]\tLoss: 0.376143\n",
            "Train Epoch: 3 [51200/60000 (85%)]\tLoss: 0.428554\n",
            "Train Epoch: 4 [0/60000 (0%)]\tLoss: 0.432741\n",
            "Train Epoch: 4 [12800/60000 (21%)]\tLoss: 0.324267\n",
            "Train Epoch: 4 [25600/60000 (43%)]\tLoss: 0.404392\n",
            "Train Epoch: 4 [38400/60000 (64%)]\tLoss: 0.494760\n",
            "Train Epoch: 4 [51200/60000 (85%)]\tLoss: 0.376783\n",
            "Train Epoch: 5 [0/60000 (0%)]\tLoss: 0.335262\n",
            "Train Epoch: 5 [12800/60000 (21%)]\tLoss: 0.315656\n",
            "Train Epoch: 5 [25600/60000 (43%)]\tLoss: 0.293018\n",
            "Train Epoch: 5 [38400/60000 (64%)]\tLoss: 0.349852\n",
            "Train Epoch: 5 [51200/60000 (85%)]\tLoss: 0.335452\n",
            "Saving CNN to models/mnist_cnn.pth\n",
            "2023-10-09 06:58:36.557675: I tensorflow/core/platform/cpu_feature_guard.cc:182] This TensorFlow binary is optimized to use available CPU instructions in performance-critical operations.\n",
            "To enable the following instructions: AVX2 FMA, in other operations, rebuild TensorFlow with the appropriate compiler flags.\n",
            "2023-10-09 06:58:37.728952: W tensorflow/compiler/tf2tensorrt/utils/py_utils.cc:38] TF-TRT Warning: Could not find TensorRT\n"
          ]
        }
      ]
    },
    {
      "cell_type": "code",
      "source": [
        "!python mnist_cnn_pytorch.py --mode 'test' --model_path 'models/mnist_cnn.pth'"
      ],
      "metadata": {
        "colab": {
          "base_uri": "https://localhost:8080/"
        },
        "id": "lq8tkrxg-zz_",
        "outputId": "e349e12a-d4ed-40f2-a04d-084d4c3c9c1f"
      },
      "execution_count": 6,
      "outputs": [
        {
          "output_type": "stream",
          "name": "stdout",
          "text": [
            "\n",
            "Test set: Average loss: 0.1062, Accuracy: 9652/10000 (1%)\n",
            "\n"
          ]
        }
      ]
    },
    {
      "cell_type": "markdown",
      "source": [
        "Number of kernels shrink to 5, 10"
      ],
      "metadata": {
        "id": "aK1CdoE9DB2X"
      }
    },
    {
      "cell_type": "code",
      "source": [
        "!python mnist_cnn_pytorch.py --mode 'train' --batch-size 128 --epochs 5 --model_path 'models/mnist_cnn_shrink_kernel.pth'"
      ],
      "metadata": {
        "colab": {
          "base_uri": "https://localhost:8080/"
        },
        "id": "l4udkWDADBk3",
        "outputId": "ff16e38b-6a29-48ef-b400-1b4f8356af40"
      },
      "execution_count": 10,
      "outputs": [
        {
          "output_type": "stream",
          "name": "stdout",
          "text": [
            "Train Epoch: 1 [0/60000 (0%)]\tLoss: 2.282311\n",
            "Train Epoch: 1 [12800/60000 (21%)]\tLoss: 2.024685\n",
            "Train Epoch: 1 [25600/60000 (43%)]\tLoss: 1.300674\n",
            "Train Epoch: 1 [38400/60000 (64%)]\tLoss: 1.000664\n",
            "Train Epoch: 1 [51200/60000 (85%)]\tLoss: 1.142308\n",
            "Train Epoch: 2 [0/60000 (0%)]\tLoss: 0.931152\n",
            "Train Epoch: 2 [12800/60000 (21%)]\tLoss: 0.897793\n",
            "Train Epoch: 2 [25600/60000 (43%)]\tLoss: 0.750764\n",
            "Train Epoch: 2 [38400/60000 (64%)]\tLoss: 0.683237\n",
            "Train Epoch: 2 [51200/60000 (85%)]\tLoss: 0.777920\n",
            "Train Epoch: 3 [0/60000 (0%)]\tLoss: 0.659881\n",
            "Train Epoch: 3 [12800/60000 (21%)]\tLoss: 0.789976\n",
            "Train Epoch: 3 [25600/60000 (43%)]\tLoss: 0.461116\n",
            "Train Epoch: 3 [38400/60000 (64%)]\tLoss: 0.466228\n",
            "Train Epoch: 3 [51200/60000 (85%)]\tLoss: 0.455923\n",
            "Train Epoch: 4 [0/60000 (0%)]\tLoss: 0.483951\n",
            "Train Epoch: 4 [12800/60000 (21%)]\tLoss: 0.681880\n",
            "Train Epoch: 4 [25600/60000 (43%)]\tLoss: 0.758714\n",
            "Train Epoch: 4 [38400/60000 (64%)]\tLoss: 0.414258\n",
            "Train Epoch: 4 [51200/60000 (85%)]\tLoss: 0.597252\n",
            "Train Epoch: 5 [0/60000 (0%)]\tLoss: 0.447933\n",
            "Train Epoch: 5 [12800/60000 (21%)]\tLoss: 0.557958\n",
            "Train Epoch: 5 [25600/60000 (43%)]\tLoss: 0.421920\n",
            "Train Epoch: 5 [38400/60000 (64%)]\tLoss: 0.416746\n",
            "Train Epoch: 5 [51200/60000 (85%)]\tLoss: 0.416210\n",
            "Saving CNN to models/mnist_cnn_shrink_kernel.pth\n",
            "2023-10-09 10:51:11.392173: I tensorflow/core/platform/cpu_feature_guard.cc:182] This TensorFlow binary is optimized to use available CPU instructions in performance-critical operations.\n",
            "To enable the following instructions: AVX2 AVX512F FMA, in other operations, rebuild TensorFlow with the appropriate compiler flags.\n",
            "2023-10-09 10:51:12.325520: W tensorflow/compiler/tf2tensorrt/utils/py_utils.cc:38] TF-TRT Warning: Could not find TensorRT\n"
          ]
        }
      ]
    },
    {
      "cell_type": "code",
      "source": [
        "!python mnist_cnn_pytorch.py --mode 'test' --model_path 'models/mnist_cnn_shrink_kernel.pth'"
      ],
      "metadata": {
        "colab": {
          "base_uri": "https://localhost:8080/"
        },
        "id": "-I0OMfLrD8nW",
        "outputId": "7cce96e9-540a-4da1-e40b-b83562df13a3"
      },
      "execution_count": 13,
      "outputs": [
        {
          "output_type": "stream",
          "name": "stdout",
          "text": [
            "\n",
            "Test set: Average loss: 0.1738, Accuracy: 9461/10000 (1%)\n",
            "\n"
          ]
        }
      ]
    },
    {
      "cell_type": "markdown",
      "source": [
        "number of kernels expand to 20 and 40 respectivel"
      ],
      "metadata": {
        "id": "mogHaRpmE4pL"
      }
    },
    {
      "cell_type": "code",
      "source": [
        "!python mnist_cnn_pytorch.py --mode 'train' --batch-size 128 --epochs 5 --model_path 'models/mnist_cnn_expand_kernel.pth'"
      ],
      "metadata": {
        "colab": {
          "base_uri": "https://localhost:8080/"
        },
        "id": "IYeA1ahSFCQ8",
        "outputId": "046696f0-a919-4935-a21a-d3aa63d03bee"
      },
      "execution_count": 15,
      "outputs": [
        {
          "output_type": "stream",
          "name": "stdout",
          "text": [
            "Train Epoch: 1 [0/60000 (0%)]\tLoss: 2.297683\n",
            "Train Epoch: 1 [12800/60000 (21%)]\tLoss: 1.591691\n",
            "Train Epoch: 1 [25600/60000 (43%)]\tLoss: 0.872043\n",
            "Train Epoch: 1 [38400/60000 (64%)]\tLoss: 0.739984\n",
            "Train Epoch: 1 [51200/60000 (85%)]\tLoss: 0.620559\n",
            "Train Epoch: 2 [0/60000 (0%)]\tLoss: 0.565217\n",
            "Train Epoch: 2 [12800/60000 (21%)]\tLoss: 0.430127\n",
            "Train Epoch: 2 [25600/60000 (43%)]\tLoss: 0.391779\n",
            "Train Epoch: 2 [38400/60000 (64%)]\tLoss: 0.517925\n",
            "Train Epoch: 2 [51200/60000 (85%)]\tLoss: 0.544227\n",
            "Train Epoch: 3 [0/60000 (0%)]\tLoss: 0.431835\n",
            "Train Epoch: 3 [12800/60000 (21%)]\tLoss: 0.393452\n",
            "Train Epoch: 3 [25600/60000 (43%)]\tLoss: 0.348612\n",
            "Train Epoch: 3 [38400/60000 (64%)]\tLoss: 0.344870\n",
            "Train Epoch: 3 [51200/60000 (85%)]\tLoss: 0.215585\n",
            "Train Epoch: 4 [0/60000 (0%)]\tLoss: 0.256505\n",
            "Train Epoch: 4 [12800/60000 (21%)]\tLoss: 0.189162\n",
            "Train Epoch: 4 [25600/60000 (43%)]\tLoss: 0.361597\n",
            "Train Epoch: 4 [38400/60000 (64%)]\tLoss: 0.321759\n",
            "Train Epoch: 4 [51200/60000 (85%)]\tLoss: 0.253583\n",
            "Train Epoch: 5 [0/60000 (0%)]\tLoss: 0.176474\n",
            "Train Epoch: 5 [12800/60000 (21%)]\tLoss: 0.272700\n",
            "Train Epoch: 5 [25600/60000 (43%)]\tLoss: 0.235617\n",
            "Train Epoch: 5 [38400/60000 (64%)]\tLoss: 0.261151\n",
            "Train Epoch: 5 [51200/60000 (85%)]\tLoss: 0.219746\n",
            "Saving CNN to models/mnist_cnn_expand_kernel.pth\n",
            "2023-10-09 10:57:54.118355: I tensorflow/core/platform/cpu_feature_guard.cc:182] This TensorFlow binary is optimized to use available CPU instructions in performance-critical operations.\n",
            "To enable the following instructions: AVX2 AVX512F FMA, in other operations, rebuild TensorFlow with the appropriate compiler flags.\n",
            "2023-10-09 10:57:55.456049: W tensorflow/compiler/tf2tensorrt/utils/py_utils.cc:38] TF-TRT Warning: Could not find TensorRT\n"
          ]
        }
      ]
    },
    {
      "cell_type": "code",
      "source": [
        "!python mnist_cnn_pytorch.py --mode 'test' --model_path 'models/mnist_cnn_expand_kernel.pth'"
      ],
      "metadata": {
        "colab": {
          "base_uri": "https://localhost:8080/"
        },
        "id": "8zYrfLNzFJoR",
        "outputId": "69c82402-1c15-45cd-f6d7-333e72594691"
      },
      "execution_count": 17,
      "outputs": [
        {
          "output_type": "stream",
          "name": "stdout",
          "text": [
            "\n",
            "Test set: Average loss: 0.0808, Accuracy: 9747/10000 (1%)\n",
            "\n"
          ]
        }
      ]
    },
    {
      "cell_type": "markdown",
      "source": [
        "Number of layers of the fully-connected network :"
      ],
      "metadata": {
        "id": "PQdRqapdFUFx"
      }
    },
    {
      "cell_type": "code",
      "source": [
        "!python mnist_cnn_pytorch.py --mode 'train' --batch-size 128 --epochs 5 --model_path 'models/mnist_cnn_two_layers.pth'"
      ],
      "metadata": {
        "colab": {
          "base_uri": "https://localhost:8080/"
        },
        "id": "RjwHzV2oFzR8",
        "outputId": "662315ab-5f11-4dd1-d50b-350ae8d8729e"
      },
      "execution_count": 21,
      "outputs": [
        {
          "output_type": "stream",
          "name": "stdout",
          "text": [
            "Train Epoch: 1 [0/60000 (0%)]\tLoss: 2.288625\n",
            "Train Epoch: 1 [12800/60000 (21%)]\tLoss: 2.268945\n",
            "Train Epoch: 1 [25600/60000 (43%)]\tLoss: 1.960933\n",
            "Train Epoch: 1 [38400/60000 (64%)]\tLoss: 1.831728\n",
            "Train Epoch: 1 [51200/60000 (85%)]\tLoss: 1.324089\n",
            "Train Epoch: 2 [0/60000 (0%)]\tLoss: 1.431962\n",
            "Train Epoch: 2 [12800/60000 (21%)]\tLoss: 1.123173\n",
            "Train Epoch: 2 [25600/60000 (43%)]\tLoss: 0.975411\n",
            "Train Epoch: 2 [38400/60000 (64%)]\tLoss: 1.043801\n",
            "Train Epoch: 2 [51200/60000 (85%)]\tLoss: 0.771851\n",
            "Train Epoch: 3 [0/60000 (0%)]\tLoss: 0.817978\n",
            "Train Epoch: 3 [12800/60000 (21%)]\tLoss: 0.842751\n",
            "Train Epoch: 3 [25600/60000 (43%)]\tLoss: 0.553049\n",
            "Train Epoch: 3 [38400/60000 (64%)]\tLoss: 0.677680\n",
            "Train Epoch: 3 [51200/60000 (85%)]\tLoss: 0.701748\n",
            "Train Epoch: 4 [0/60000 (0%)]\tLoss: 0.813696\n",
            "Train Epoch: 4 [12800/60000 (21%)]\tLoss: 0.604230\n",
            "Train Epoch: 4 [25600/60000 (43%)]\tLoss: 0.577500\n",
            "Train Epoch: 4 [38400/60000 (64%)]\tLoss: 0.471617\n",
            "Train Epoch: 4 [51200/60000 (85%)]\tLoss: 0.747106\n",
            "Train Epoch: 5 [0/60000 (0%)]\tLoss: 0.502303\n",
            "Train Epoch: 5 [12800/60000 (21%)]\tLoss: 0.451809\n",
            "Train Epoch: 5 [25600/60000 (43%)]\tLoss: 0.480970\n",
            "Train Epoch: 5 [38400/60000 (64%)]\tLoss: 0.489443\n",
            "Train Epoch: 5 [51200/60000 (85%)]\tLoss: 0.409205\n",
            "Saving CNN to models/mnist_cnn_two_layers.pth\n",
            "2023-10-09 11:11:28.925820: I tensorflow/core/platform/cpu_feature_guard.cc:182] This TensorFlow binary is optimized to use available CPU instructions in performance-critical operations.\n",
            "To enable the following instructions: AVX2 AVX512F FMA, in other operations, rebuild TensorFlow with the appropriate compiler flags.\n",
            "2023-10-09 11:11:30.294240: W tensorflow/compiler/tf2tensorrt/utils/py_utils.cc:38] TF-TRT Warning: Could not find TensorRT\n"
          ]
        }
      ]
    },
    {
      "cell_type": "code",
      "source": [
        "!python mnist_cnn_pytorch.py --mode 'test' --model_path 'models/mnist_cnn_two_layers.pth'"
      ],
      "metadata": {
        "colab": {
          "base_uri": "https://localhost:8080/"
        },
        "id": "EEidAMG-FtLl",
        "outputId": "bb8498bf-d013-4843-8ed8-b1d23082ca41"
      },
      "execution_count": 23,
      "outputs": [
        {
          "output_type": "stream",
          "name": "stdout",
          "text": [
            "\n",
            "Test set: Average loss: 0.1650, Accuracy: 9545/10000 (1%)\n",
            "\n"
          ]
        }
      ]
    },
    {
      "cell_type": "code",
      "source": [
        "!python mnist_cnn_pytorch.py --mode 'train' --batch-size 128 --epochs 5 --model_path 'models/mnist_cnn_three_layers.pth'"
      ],
      "metadata": {
        "colab": {
          "base_uri": "https://localhost:8080/"
        },
        "id": "HQSnOfTjJrLd",
        "outputId": "4e9c9a0a-226d-44b2-cc7e-1e67f1e9bafe"
      },
      "execution_count": 24,
      "outputs": [
        {
          "output_type": "stream",
          "name": "stdout",
          "text": [
            "Train Epoch: 1 [0/60000 (0%)]\tLoss: 2.294724\n",
            "Train Epoch: 1 [12800/60000 (21%)]\tLoss: 2.309095\n",
            "Train Epoch: 1 [25600/60000 (43%)]\tLoss: 2.300593\n",
            "Train Epoch: 1 [38400/60000 (64%)]\tLoss: 2.289235\n",
            "Train Epoch: 1 [51200/60000 (85%)]\tLoss: 2.279482\n",
            "Train Epoch: 2 [0/60000 (0%)]\tLoss: 2.270716\n",
            "Train Epoch: 2 [12800/60000 (21%)]\tLoss: 2.236562\n",
            "Train Epoch: 2 [25600/60000 (43%)]\tLoss: 2.233117\n",
            "Train Epoch: 2 [38400/60000 (64%)]\tLoss: 2.071264\n",
            "Train Epoch: 2 [51200/60000 (85%)]\tLoss: 2.081205\n",
            "Train Epoch: 3 [0/60000 (0%)]\tLoss: 1.782794\n",
            "Train Epoch: 3 [12800/60000 (21%)]\tLoss: 1.871535\n",
            "Train Epoch: 3 [25600/60000 (43%)]\tLoss: 1.533908\n",
            "Train Epoch: 3 [38400/60000 (64%)]\tLoss: 1.519395\n",
            "Train Epoch: 3 [51200/60000 (85%)]\tLoss: 1.366015\n",
            "Train Epoch: 4 [0/60000 (0%)]\tLoss: 1.203320\n",
            "Train Epoch: 4 [12800/60000 (21%)]\tLoss: 1.254958\n",
            "Train Epoch: 4 [25600/60000 (43%)]\tLoss: 1.116218\n",
            "Train Epoch: 4 [38400/60000 (64%)]\tLoss: 1.010723\n",
            "Train Epoch: 4 [51200/60000 (85%)]\tLoss: 1.077849\n",
            "Train Epoch: 5 [0/60000 (0%)]\tLoss: 1.111965\n",
            "Train Epoch: 5 [12800/60000 (21%)]\tLoss: 1.092310\n",
            "Train Epoch: 5 [25600/60000 (43%)]\tLoss: 1.003818\n",
            "Train Epoch: 5 [38400/60000 (64%)]\tLoss: 0.801159\n",
            "Train Epoch: 5 [51200/60000 (85%)]\tLoss: 0.920303\n",
            "Saving CNN to models/mnist_cnn_three_layers.pth\n",
            "2023-10-09 11:17:27.039464: I tensorflow/core/platform/cpu_feature_guard.cc:182] This TensorFlow binary is optimized to use available CPU instructions in performance-critical operations.\n",
            "To enable the following instructions: AVX2 AVX512F FMA, in other operations, rebuild TensorFlow with the appropriate compiler flags.\n",
            "2023-10-09 11:17:28.384626: W tensorflow/compiler/tf2tensorrt/utils/py_utils.cc:38] TF-TRT Warning: Could not find TensorRT\n"
          ]
        }
      ]
    },
    {
      "cell_type": "code",
      "source": [
        "!python mnist_cnn_pytorch.py --mode 'test' --model_path 'models/mnist_cnn_three_layers.pth'"
      ],
      "metadata": {
        "colab": {
          "base_uri": "https://localhost:8080/"
        },
        "id": "j8MKhsA9JwZx",
        "outputId": "1c102866-0862-4df1-ee8a-3b969cef1203"
      },
      "execution_count": 25,
      "outputs": [
        {
          "output_type": "stream",
          "name": "stdout",
          "text": [
            "\n",
            "Test set: Average loss: 0.4058, Accuracy: 9214/10000 (1%)\n",
            "\n"
          ]
        }
      ]
    },
    {
      "cell_type": "markdown",
      "source": [
        "Number of nodes in the fully connected network:20"
      ],
      "metadata": {
        "id": "cji2fT6rFXlq"
      }
    },
    {
      "cell_type": "code",
      "source": [
        "!python mnist_cnn_pytorch.py --mode 'train' --batch-size 128 --epochs 5 --model_path 'models/mnist_cnn_20nodes.pth'"
      ],
      "metadata": {
        "colab": {
          "base_uri": "https://localhost:8080/"
        },
        "id": "bqh5nIcVKQqZ",
        "outputId": "5277889a-7849-4295-b7be-e0a811a80a0f"
      },
      "execution_count": 26,
      "outputs": [
        {
          "output_type": "stream",
          "name": "stdout",
          "text": [
            "Train Epoch: 1 [0/60000 (0%)]\tLoss: 2.359094\n",
            "Train Epoch: 1 [12800/60000 (21%)]\tLoss: 2.037302\n",
            "Train Epoch: 1 [25600/60000 (43%)]\tLoss: 1.364614\n",
            "Train Epoch: 1 [38400/60000 (64%)]\tLoss: 1.194460\n",
            "Train Epoch: 1 [51200/60000 (85%)]\tLoss: 1.212326\n",
            "Train Epoch: 2 [0/60000 (0%)]\tLoss: 1.046837\n",
            "Train Epoch: 2 [12800/60000 (21%)]\tLoss: 0.971127\n",
            "Train Epoch: 2 [25600/60000 (43%)]\tLoss: 0.877609\n",
            "Train Epoch: 2 [38400/60000 (64%)]\tLoss: 0.659784\n",
            "Train Epoch: 2 [51200/60000 (85%)]\tLoss: 0.758560\n",
            "Train Epoch: 3 [0/60000 (0%)]\tLoss: 0.755707\n",
            "Train Epoch: 3 [12800/60000 (21%)]\tLoss: 0.918059\n",
            "Train Epoch: 3 [25600/60000 (43%)]\tLoss: 0.765160\n",
            "Train Epoch: 3 [38400/60000 (64%)]\tLoss: 0.657517\n",
            "Train Epoch: 3 [51200/60000 (85%)]\tLoss: 0.677328\n",
            "Train Epoch: 4 [0/60000 (0%)]\tLoss: 0.531855\n",
            "Train Epoch: 4 [12800/60000 (21%)]\tLoss: 0.713498\n",
            "Train Epoch: 4 [25600/60000 (43%)]\tLoss: 0.646818\n",
            "Train Epoch: 4 [38400/60000 (64%)]\tLoss: 0.532701\n",
            "Train Epoch: 4 [51200/60000 (85%)]\tLoss: 0.679828\n",
            "Train Epoch: 5 [0/60000 (0%)]\tLoss: 0.573046\n",
            "Train Epoch: 5 [12800/60000 (21%)]\tLoss: 0.781405\n",
            "Train Epoch: 5 [25600/60000 (43%)]\tLoss: 0.576885\n",
            "Train Epoch: 5 [38400/60000 (64%)]\tLoss: 0.588685\n",
            "Train Epoch: 5 [51200/60000 (85%)]\tLoss: 0.619966\n",
            "Saving CNN to models/mnist_cnn_20nodes.pth\n",
            "2023-10-09 11:21:20.576868: I tensorflow/core/platform/cpu_feature_guard.cc:182] This TensorFlow binary is optimized to use available CPU instructions in performance-critical operations.\n",
            "To enable the following instructions: AVX2 AVX512F FMA, in other operations, rebuild TensorFlow with the appropriate compiler flags.\n",
            "2023-10-09 11:21:21.909519: W tensorflow/compiler/tf2tensorrt/utils/py_utils.cc:38] TF-TRT Warning: Could not find TensorRT\n"
          ]
        }
      ]
    },
    {
      "cell_type": "code",
      "source": [
        "!python mnist_cnn_pytorch.py --mode 'test' --model_path 'models/mnist_cnn_20nodes.pth'"
      ],
      "metadata": {
        "colab": {
          "base_uri": "https://localhost:8080/"
        },
        "id": "2VDjyG__Kl1s",
        "outputId": "1bd29033-b1b3-41b0-b3ea-0a9d65f27c24"
      },
      "execution_count": 27,
      "outputs": [
        {
          "output_type": "stream",
          "name": "stdout",
          "text": [
            "\n",
            "Test set: Average loss: 0.1425, Accuracy: 9633/10000 (1%)\n",
            "\n"
          ]
        }
      ]
    },
    {
      "cell_type": "markdown",
      "source": [
        "Number of nodes in the fully connected network: 80"
      ],
      "metadata": {
        "id": "KaymltHVKq2P"
      }
    },
    {
      "cell_type": "code",
      "source": [
        "!python mnist_cnn_pytorch.py --mode 'train' --batch-size 128 --epochs 5 --model_path 'models/mnist_cnn_80nodes.pth'"
      ],
      "metadata": {
        "colab": {
          "base_uri": "https://localhost:8080/"
        },
        "id": "l2KCswqfK8w7",
        "outputId": "71d49eb7-5750-4313-8d6d-871126fde73b"
      },
      "execution_count": 30,
      "outputs": [
        {
          "output_type": "stream",
          "name": "stdout",
          "text": [
            "Train Epoch: 1 [0/60000 (0%)]\tLoss: 2.295882\n",
            "Train Epoch: 1 [12800/60000 (21%)]\tLoss: 1.777177\n",
            "Train Epoch: 1 [25600/60000 (43%)]\tLoss: 0.932192\n",
            "Train Epoch: 1 [38400/60000 (64%)]\tLoss: 0.762084\n",
            "Train Epoch: 1 [51200/60000 (85%)]\tLoss: 0.525209\n",
            "Train Epoch: 2 [0/60000 (0%)]\tLoss: 0.791008\n",
            "Train Epoch: 2 [12800/60000 (21%)]\tLoss: 0.477328\n",
            "Train Epoch: 2 [25600/60000 (43%)]\tLoss: 0.450790\n",
            "Train Epoch: 2 [38400/60000 (64%)]\tLoss: 0.305501\n",
            "Train Epoch: 2 [51200/60000 (85%)]\tLoss: 0.308346\n",
            "Train Epoch: 3 [0/60000 (0%)]\tLoss: 0.259986\n",
            "Train Epoch: 3 [12800/60000 (21%)]\tLoss: 0.469975\n",
            "Train Epoch: 3 [25600/60000 (43%)]\tLoss: 0.340454\n",
            "Train Epoch: 3 [38400/60000 (64%)]\tLoss: 0.274106\n",
            "Train Epoch: 3 [51200/60000 (85%)]\tLoss: 0.382260\n",
            "Train Epoch: 4 [0/60000 (0%)]\tLoss: 0.228938\n",
            "Train Epoch: 4 [12800/60000 (21%)]\tLoss: 0.191041\n",
            "Train Epoch: 4 [25600/60000 (43%)]\tLoss: 0.384878\n",
            "Train Epoch: 4 [38400/60000 (64%)]\tLoss: 0.215561\n",
            "Train Epoch: 4 [51200/60000 (85%)]\tLoss: 0.342132\n",
            "Train Epoch: 5 [0/60000 (0%)]\tLoss: 0.238950\n",
            "Train Epoch: 5 [12800/60000 (21%)]\tLoss: 0.409347\n",
            "Train Epoch: 5 [25600/60000 (43%)]\tLoss: 0.565709\n",
            "Train Epoch: 5 [38400/60000 (64%)]\tLoss: 0.183889\n",
            "Train Epoch: 5 [51200/60000 (85%)]\tLoss: 0.261255\n",
            "Saving CNN to models/mnist_cnn_80nodes.pth\n",
            "2023-10-09 11:25:50.830720: I tensorflow/core/platform/cpu_feature_guard.cc:182] This TensorFlow binary is optimized to use available CPU instructions in performance-critical operations.\n",
            "To enable the following instructions: AVX2 AVX512F FMA, in other operations, rebuild TensorFlow with the appropriate compiler flags.\n",
            "2023-10-09 11:25:52.104542: W tensorflow/compiler/tf2tensorrt/utils/py_utils.cc:38] TF-TRT Warning: Could not find TensorRT\n"
          ]
        }
      ]
    },
    {
      "cell_type": "code",
      "source": [
        "!python mnist_cnn_pytorch.py --mode 'test' --model_path 'models/mnist_cnn_80nodes.pth'"
      ],
      "metadata": {
        "colab": {
          "base_uri": "https://localhost:8080/"
        },
        "id": "8Q0tWtFYK8FC",
        "outputId": "cad1e19b-83c8-4894-e417-eadef2b61b1a"
      },
      "execution_count": 31,
      "outputs": [
        {
          "output_type": "stream",
          "name": "stdout",
          "text": [
            "\n",
            "Test set: Average loss: 0.0975, Accuracy: 9707/10000 (1%)\n",
            "\n"
          ]
        }
      ]
    }
  ]
}